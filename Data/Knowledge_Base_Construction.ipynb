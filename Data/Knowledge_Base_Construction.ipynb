{
  "nbformat": 4,
  "nbformat_minor": 0,
  "metadata": {
    "colab": {
      "provenance": []
    },
    "kernelspec": {
      "name": "python3",
      "display_name": "Python 3"
    },
    "language_info": {
      "name": "python"
    }
  },
  "cells": [
    {
      "cell_type": "code",
      "source": [
        "!pip install -q sec_api chromadb sentence-transformers langchain-text-splitters langchain-community rank_bm25"
      ],
      "metadata": {
        "id": "Ss2tp3vly41q"
      },
      "execution_count": null,
      "outputs": []
    },
    {
      "cell_type": "markdown",
      "source": [
        "# SEC Filings Data Retrieval for RAG\n",
        "\n",
        "### Step 1: Library Imports and API Key Configuration\n",
        "\n",
        "The first step is to import all the required libraries and set up our API key.\n",
        "\n",
        "- `userdata`: Used to securely access the SEC API key stored in Google Colab.\n",
        "- `sec_api`: The main library for querying and extracting data from SEC filings.\n",
        "- `os`: To interact with the file system, specifically for saving the extracted data.\n",
        "\n",
        "The `sec_api_key` is retrieved from Colab's secret manager."
      ],
      "metadata": {
        "id": "DQrp7I6M3HRo"
      }
    },
    {
      "cell_type": "code",
      "source": [
        "from google.colab import userdata\n",
        "from sec_api import ExtractorApi, QueryApi\n",
        "import os\n",
        "import chromadb\n",
        "from chromadb.utils import embedding_functions\n",
        "from langchain_text_splitters import RecursiveCharacterTextSplitter\n",
        "import html\n",
        "from langchain.retrievers import BM25Retriever\n",
        "from langchain_core.documents import Document\n",
        "import pickle"
      ],
      "metadata": {
        "id": "KhBdgMTZRtal"
      },
      "execution_count": 2,
      "outputs": []
    },
    {
      "cell_type": "code",
      "source": [
        "# Define the folder name\n",
        "output_folder = \"./companies\"\n",
        "\n",
        "# Check if the folder exists\n",
        "if not os.path.exists(output_folder):\n",
        "    print(f\"The folder '{output_folder}' was not found. Please run the previous cell to save the data first.\")\n",
        "else:\n",
        "    print(f\"Loading data from '{output_folder}' folder...\")"
      ],
      "metadata": {
        "colab": {
          "base_uri": "https://localhost:8080/"
        },
        "id": "zCBjsdjxPAes",
        "outputId": "51dbedb0-c8cf-444d-fa4e-485dbfe4c2da"
      },
      "execution_count": 5,
      "outputs": [
        {
          "output_type": "stream",
          "name": "stdout",
          "text": [
            "Loading data from './companies' folder...\n"
          ]
        }
      ]
    },
    {
      "cell_type": "code",
      "source": [
        "sec_api_key = userdata.get('secdata')"
      ],
      "metadata": {
        "id": "5-HbE2b7W273"
      },
      "execution_count": null,
      "outputs": []
    },
    {
      "cell_type": "markdown",
      "source": [
        "### 2. Define the Data Retrieval Function\n",
        "\n",
        "This cell defines the core logic for retrieving and extracting the most relevant information from SEC filings.\n",
        "\n",
        "-   **`companies` list**: This list holds the stock tickers of the companies we want to analyze. You can easily add or remove companies here.\n",
        "-   **`get_filings(ticker)` function**:\n",
        "    -   It uses the `QueryApi` to find the most recent **10-K annual report** for the given ticker.\n",
        "    -   It then uses the `ExtractorApi` to pull the raw text from two critical sections:\n",
        "        -   **Item 1A (`Risk Factors`)**: This section details the potential risks and uncertainties that could impact the company's business.\n",
        "        -   **Item 7 (`Management's Discussion and Analysis...`)**: This provides a narrative from management on the company's financial performance, results, and future outlook.\n",
        "    -   The function returns the extracted text from these two sections as a list, which is a perfect data source for a RAG system."
      ],
      "metadata": {
        "id": "WNjQZx4l3Xyp"
      }
    },
    {
      "cell_type": "code",
      "source": [
        "companies = [\n",
        "    \"AAPL\", # Apple Inc.\n",
        "    \"MSFT\", # Microsoft Corporation\n",
        "    \"GOOG\", # Alphabet Inc. (Google)\n",
        "    \"AMZN\", # Amazon.com, Inc.\n",
        "    \"META\", # Meta Platforms, Inc.\n",
        "]\n",
        "\n",
        "def get_filings(ticker):\n",
        "\n",
        "    try:\n",
        "        # Finding Recent Filings with QueryAPI\n",
        "        queryApi = QueryApi(api_key=sec_api_key)\n",
        "        query = {\n",
        "          \"query\": f\"ticker:{ticker} AND formType:\\\"10-K\\\"\",\n",
        "          \"from\": \"0\",\n",
        "          \"size\": \"1\",\n",
        "          \"sort\": [{ \"filedAt\": { \"order\": \"desc\" } }]\n",
        "        }\n",
        "        filings = queryApi.get_filings(query)\n",
        "\n",
        "        # Check if any filings were found\n",
        "        if not filings[\"filings\"]:\n",
        "            print(f\"No 10-K filings found for {ticker}.\")\n",
        "            return None\n",
        "\n",
        "        # Getting 10-K URL\n",
        "        filing_url = filings[\"filings\"][0][\"linkToFilingDetails\"]\n",
        "\n",
        "        # Extracting Text with ExtractorAPI\n",
        "        extractorApi = ExtractorApi(api_key=sec_api_key)\n",
        "\n",
        "        # Section 1A - Risk Factors\n",
        "        Risk_Factors = extractorApi.get_section(filing_url, \"1A\", \"text\")\n",
        "\n",
        "        # Section 7 - Management’s Discussion and Analysis of Financial Condition and Results of Operations\n",
        "        Management_Dis = extractorApi.get_section(filing_url, \"7\", \"text\")\n",
        "\n",
        "        # Joining Texts\n",
        "        filing_text = [Risk_Factors, Management_Dis]\n",
        "        return filing_text\n",
        "\n",
        "    except Exception as e:\n",
        "        print(f\"An error occurred while processing {ticker}: {e}\")\n",
        "        return None"
      ],
      "metadata": {
        "id": "RuHdSomsuaj8"
      },
      "execution_count": null,
      "outputs": []
    },
    {
      "cell_type": "code",
      "source": [
        "# Dictionary to store the filing data for each company\n",
        "all_companies_filing_data = {}\n",
        "\n",
        "# Loop through the list of companies and get their filing data\n",
        "for ticker in companies:\n",
        "    print(f\"-----\")\n",
        "    print(f\"Getting Filing Data for {ticker}\")\n",
        "    filing_data = get_filings(ticker)\n",
        "\n",
        "    # Store the data if it was successfully retrieved\n",
        "    if filing_data:\n",
        "        all_companies_filing_data[ticker] = filing_data\n",
        "\n",
        "    print(f\"Finished getting data for {ticker}\")"
      ],
      "metadata": {
        "colab": {
          "base_uri": "https://localhost:8080/"
        },
        "id": "_YgwZyRyXIYQ",
        "outputId": "7fa5343d-95b3-433a-f2dd-437e3e1be94e"
      },
      "execution_count": null,
      "outputs": [
        {
          "output_type": "stream",
          "name": "stdout",
          "text": [
            "-----\n",
            "Getting Filing Data for AAPL\n",
            "Finished getting data for AAPL\n",
            "-----\n",
            "Getting Filing Data for MSFT\n",
            "Finished getting data for MSFT\n",
            "-----\n",
            "Getting Filing Data for GOOG\n",
            "Finished getting data for GOOG\n",
            "-----\n",
            "Getting Filing Data for AMZN\n",
            "Finished getting data for AMZN\n",
            "-----\n",
            "Getting Filing Data for META\n",
            "Finished getting data for META\n"
          ]
        }
      ]
    },
    {
      "cell_type": "code",
      "source": [
        "if \"AAPL\" in all_companies_filing_data:\n",
        "    print(\"\\n--- Apple (AAPL) Filing Data ---\")\n",
        "    print(all_companies_filing_data[\"AAPL\"][0][:500] + \"...\")"
      ],
      "metadata": {
        "colab": {
          "base_uri": "https://localhost:8080/"
        },
        "id": "6MOazbok10ti",
        "outputId": "1ea2834b-e537-4622-d498-8ba8e7d1f1ed"
      },
      "execution_count": null,
      "outputs": [
        {
          "output_type": "stream",
          "name": "stdout",
          "text": [
            "\n",
            "--- Apple (AAPL) Filing Data ---\n",
            " Item 1A. Risk Factors \n",
            "\n",
            "The Company&#8217;s business, reputation, results of operations, financial condition and stock price can be affected by a number of factors, whether currently known or unknown, including those described below. When any one or more of these risks materialize from time to time, the Company&#8217;s business, reputation, results of operations, financial condition and stock price can be materially and adversely affected. \n",
            "\n",
            "Because of the following factors, as well as other fa...\n"
          ]
        }
      ]
    },
    {
      "cell_type": "code",
      "source": [
        "print(\"--- Character count for each company's filings ---\")\n",
        "\n",
        "total = 0\n",
        "for company in companies:\n",
        "  length = (len(all_companies_filing_data[company][0][0]) + len(all_companies_filing_data[company][0][1]))\n",
        "  total += length\n",
        "  print(f\"{company}: {length} characters\")\n",
        "print(f\"\\nTotal character count for all companies: {total}\")"
      ],
      "metadata": {
        "colab": {
          "base_uri": "https://localhost:8080/"
        },
        "id": "vW9kCToo6Lo2",
        "outputId": "109bc3fa-44aa-46e9-ee38-97b551a2b385"
      },
      "execution_count": null,
      "outputs": [
        {
          "output_type": "stream",
          "name": "stdout",
          "text": [
            "--- Character count for each company's filings ---\n",
            "AAPL: 86707 characters\n",
            "MSFT: 124930 characters\n",
            "GOOG: 144093 characters\n",
            "AMZN: 109633 characters\n",
            "META: 253056 characters\n",
            "\n",
            "Total character count for all companies: 718419\n"
          ]
        }
      ]
    },
    {
      "cell_type": "markdown",
      "source": [
        "## Saving Extracted Filing Data to Files\n",
        "\n",
        "The following code cell will iterate through the `all_companies_filing_data` dictionary and save the extracted text for each company into separate files.\n",
        "\n",
        "A new folder named `companies` will be created if it doesn't already exist. For each company, two `.txt` files will be saved in this folder:\n",
        "\n",
        "* `[TICKER]_risks.txt`: Contains the text from Section 1A (Risk Factors).\n",
        "\n",
        "* `[TICKER]_management_dis.txt`: Contains the text from Section 7 (Management’s Discussion and Analysis of Financial Condition and Results of Operations).\n"
      ],
      "metadata": {
        "id": "pH2_M24FBKGl"
      }
    },
    {
      "cell_type": "code",
      "source": [
        "# Define the folder name\n",
        "output_folder = \"./companies\"\n",
        "\n",
        "# Create the folder if it doesn't exist\n",
        "os.makedirs(output_folder, exist_ok=True)\n",
        "\n",
        "# Loop through the combined filing data and save each company's text to a file\n",
        "for ticker, data in all_companies_filing_data.items():\n",
        "    print(f\"Saving filing data for {ticker}...\")\n",
        "\n",
        "    # The Risk Factors text is the first item in the list\n",
        "    risks_text = data[0]\n",
        "    # The Management's Discussion is the second item in the list\n",
        "    management_dis_text = data[1]\n",
        "\n",
        "    # Create the filenames for the two sections\n",
        "    risks_filename = os.path.join(output_folder, f\"{ticker}_risks.txt\")\n",
        "    management_dis_filename = os.path.join(output_folder, f\"{ticker}_management_dis.txt\")\n",
        "\n",
        "    # Save the Risk Factors to its own file\n",
        "    with open(risks_filename, \"w\", encoding=\"utf-8\") as f:\n",
        "        f.write(risks_text)\n",
        "\n",
        "    # Save the Management's Discussion to its own file\n",
        "    with open(management_dis_filename, \"w\", encoding=\"utf-8\") as f:\n",
        "        f.write(management_dis_text)\n",
        "\n",
        "    print(f\"Saved {risks_filename} and {management_dis_filename}\")\n",
        "\n",
        "print(\"\\nAll files have been saved to the 'companies' folder.\")"
      ],
      "metadata": {
        "colab": {
          "base_uri": "https://localhost:8080/"
        },
        "id": "QE9AnhXo3e7C",
        "outputId": "7420b41b-0384-4770-cf57-697ceae2b7a5"
      },
      "execution_count": null,
      "outputs": [
        {
          "output_type": "stream",
          "name": "stdout",
          "text": [
            "Saving filing data for AAPL...\n",
            "Saved companies/AAPL_risks.txt and companies/AAPL_management_dis.txt\n",
            "Saving filing data for MSFT...\n",
            "Saved companies/MSFT_risks.txt and companies/MSFT_management_dis.txt\n",
            "Saving filing data for GOOG...\n",
            "Saved companies/GOOG_risks.txt and companies/GOOG_management_dis.txt\n",
            "Saving filing data for AMZN...\n",
            "Saved companies/AMZN_risks.txt and companies/AMZN_management_dis.txt\n",
            "Saving filing data for META...\n",
            "Saved companies/META_risks.txt and companies/META_management_dis.txt\n",
            "\n",
            "All files have been saved to the 'companies' folder.\n"
          ]
        }
      ]
    },
    {
      "cell_type": "markdown",
      "source": [
        "## Loading Extracted Files into filing data"
      ],
      "metadata": {
        "id": "D4juuIXs83O2"
      }
    },
    {
      "cell_type": "code",
      "source": [
        "# Dictionary to store the loaded filing data for each company\n",
        "loaded_filing_data = {}\n",
        "\n",
        "# Check if the folder exists\n",
        "if not os.path.exists(output_folder):\n",
        "    print(f\"The folder '{output_folder}' was not found. Please run the previous cell to save the data first.\")\n",
        "else:\n",
        "    print(f\"Loading data from '{output_folder}' folder...\")\n",
        "\n",
        "    # Dictionary to temporarily hold text for a company before combining\n",
        "    company_data_temp = {}\n",
        "\n",
        "    # Loop through the files in the 'companies' folder\n",
        "    for filename in os.listdir(output_folder):\n",
        "        if filename.endswith(\".txt\"):\n",
        "            filepath = os.path.join(output_folder, filename)\n",
        "\n",
        "            # Parse the filename to get the ticker and category\n",
        "            parts = filename.split('_')\n",
        "            ticker = parts[0]\n",
        "            if len(parts) == 2:\n",
        "              category = parts[1].split('.')[0]\n",
        "            else:\n",
        "              category = parts[1] + '_' + parts[2].split('.')[0]\n",
        "\n",
        "            # Read the content of the file\n",
        "            with open(filepath, 'r', encoding='utf-8') as f:\n",
        "                content = f.read()\n",
        "\n",
        "            # Store the content in a temporary dictionary\n",
        "            if ticker not in company_data_temp:\n",
        "                company_data_temp[ticker] = {}\n",
        "            company_data_temp[ticker][category] = content\n",
        "\n",
        "    # Combine the temporary data into the final dictionary\n",
        "    for ticker, data in company_data_temp.items():\n",
        "        # Ensure both risks and management discussion files were found\n",
        "        if 'risks' in data and 'management_dis' in data:\n",
        "            loaded_filing_data[ticker] = [data['risks'], data['management_dis']]\n",
        "            print(f\"Successfully loaded data for {ticker}\")\n",
        "        else:\n",
        "            print(f\"Warning: Could not find both 'risks' and 'management_dis' files for {ticker}. Skipping.\")\n",
        "\n",
        "    print(\"\\nFinished loading data.\")\n",
        "\n",
        "# Assign the loaded data to the variable name used in the next cell\n",
        "all_companies_filing_data = loaded_filing_data\n",
        "\n",
        "# Print a quick check to confirm the data is loaded\n",
        "if \"AAPL\" in all_companies_filing_data:\n",
        "    print(\"\\n--- Apple (AAPL) Filing Data (First 500 characters) ---\")\n",
        "    print(all_companies_filing_data[\"AAPL\"][0][:500] + \"...\")\n",
        "else:\n",
        "    print(\"\\nNo data found for AAPL. Check your file paths.\")"
      ],
      "metadata": {
        "colab": {
          "base_uri": "https://localhost:8080/"
        },
        "id": "w_TozPRK7K1r",
        "outputId": "5e1a70e2-9919-4041-eba3-a6a919fe11f2"
      },
      "execution_count": 8,
      "outputs": [
        {
          "output_type": "stream",
          "name": "stdout",
          "text": [
            "Loading data from './companies' folder...\n",
            "Successfully loaded data for AAPL\n",
            "Successfully loaded data for AMZN\n",
            "Successfully loaded data for GOOG\n",
            "Successfully loaded data for META\n",
            "Successfully loaded data for MSFT\n",
            "\n",
            "Finished loading data.\n",
            "\n",
            "--- Apple (AAPL) Filing Data (First 500 characters) ---\n",
            " Item 1A. Risk Factors \n",
            "\n",
            "The Company&#8217;s business, reputation, results of operations, financial condition and stock price can be affected by a number of factors, whether currently known or unknown, including those described below. When any one or more of these risks materialize from time to time, the Company&#8217;s business, reputation, results of operations, financial condition and stock price can be materially and adversely affected. \n",
            "\n",
            "Because of the following factors, as well as other fa...\n"
          ]
        }
      ]
    },
    {
      "cell_type": "markdown",
      "source": [
        "# Prepare Documents"
      ],
      "metadata": {
        "id": "fL4lQlRtAyys"
      }
    },
    {
      "cell_type": "code",
      "source": [
        "# Helper function to clean text before chunking\n",
        "def clean_text(text):\n",
        "    \"\"\"Decodes HTML entities and cleans up extra whitespace.\"\"\"\n",
        "    # Decode HTML entities (e.g., &#8226; becomes •)\n",
        "    cleaned_text = html.unescape(text)\n",
        "\n",
        "    cleaned_text = ' '.join(cleaned_text.split())\n",
        "    return cleaned_text\n",
        "\n",
        "# --- Create a mapping from company ticker to its full/common name ---\n",
        "# This makes the documents searchable by either term for both retrievers.\n",
        "company_name_map = {\n",
        "    \"AAPL\": \"Apple Inc.\",\n",
        "    \"MSFT\": \"Microsoft Corporation\",\n",
        "    \"GOOG\": \"Alphabet Inc. Google\",\n",
        "    \"AMZN\": \"Amazon.com, Inc.\",\n",
        "    \"META\": \"Meta Platforms, Inc.\"\n",
        "}\n",
        "\n",
        "\n",
        "documents = []\n",
        "metadatas = []\n",
        "ids = []\n",
        "doc_id_counter = 0\n",
        "\n",
        "# Define chunking parameters\n",
        "chunk_size = 2500\n",
        "chunk_overlap = 200\n",
        "\n",
        "# Initialize the text splitter\n",
        "text_splitter = RecursiveCharacterTextSplitter(\n",
        "    chunk_size=chunk_size,\n",
        "    chunk_overlap=chunk_overlap,\n",
        "    separators=[\"\\n\\n\", \"\\n\", \". \", \" \", \"\"]\n",
        ")\n",
        "\n",
        "print(\"--- Preparing unified documents for ChromaDB & BM25 ---\")\n",
        "\n",
        "# Loop through the all_companies_filing_data dictionary\n",
        "for ticker, filing_data in all_companies_filing_data.items():\n",
        "    # The first item is the Risk Factors text\n",
        "    risks_text = filing_data[0]\n",
        "    # The second item is the Management's Discussion text\n",
        "    management_dis_text = filing_data[1]\n",
        "\n",
        "    # Apply cleaning function to the raw text\n",
        "    risks_text_cleaned = clean_text(risks_text)\n",
        "    management_dis_text_cleaned = clean_text(management_dis_text)\n",
        "\n",
        "    # Look up the full company name from our map\n",
        "    full_name = company_name_map.get(ticker, \"\")\n",
        "\n",
        "    # Process and chunk the cleaned Risk Factors text\n",
        "    risks_chunks = text_splitter.split_text(risks_text_cleaned)\n",
        "    for chunk in risks_chunks:\n",
        "        # Create the enhanced content with prepended metadata\n",
        "        enhanced_content = f\"Company: {ticker} {full_name}. Category: risks. Content: {chunk}\"\n",
        "        documents.append(enhanced_content)\n",
        "\n",
        "        # The metadata dictionary remains the same, still useful for explicit filtering\n",
        "        metadatas.append({\n",
        "            \"company\": ticker,\n",
        "            \"category\": \"risks\"\n",
        "        })\n",
        "        ids.append(f\"doc_{doc_id_counter}\")\n",
        "        doc_id_counter += 1\n",
        "\n",
        "    # Process and chunk the cleaned Management Discussion text\n",
        "    management_dis_chunks = text_splitter.split_text(management_dis_text_cleaned)\n",
        "    for chunk in management_dis_chunks:\n",
        "        # Create the enhanced content with prepended metadata\n",
        "        enhanced_content = f\"Company: {ticker} {full_name}. Category: management_dis. Content: {chunk}\"\n",
        "        documents.append(enhanced_content)\n",
        "\n",
        "        metadatas.append({\n",
        "            \"company\": ticker,\n",
        "            \"category\": \"management_dis\"\n",
        "        })\n",
        "        ids.append(f\"doc_{doc_id_counter}\")\n",
        "        doc_id_counter += 1\n",
        "\n",
        "print(f\"\\nSplit and enhanced {len(documents)} text chunks from the in-memory data.\")"
      ],
      "metadata": {
        "colab": {
          "base_uri": "https://localhost:8080/"
        },
        "id": "hNT6EJw5ADRU",
        "outputId": "4c262b33-edb0-4de6-ee97-a263a84fa161"
      },
      "execution_count": 9,
      "outputs": [
        {
          "output_type": "stream",
          "name": "stdout",
          "text": [
            "--- Preparing unified documents for ChromaDB & BM25 ---\n",
            "\n",
            "Split and enhanced 316 text chunks from the in-memory data.\n"
          ]
        }
      ]
    },
    {
      "cell_type": "code",
      "source": [
        "print(\"\\n--- Example of a final document chunk to be used everywhere ---\")\n",
        "print(f\"Text: {documents[0]}\")\n",
        "print(f\"\\nAssociated Metadata: {metadatas[0]}\")"
      ],
      "metadata": {
        "colab": {
          "base_uri": "https://localhost:8080/"
        },
        "id": "L4HFatQPBeum",
        "outputId": "285de168-5c77-453f-e4a8-ba686f1c65ad"
      },
      "execution_count": 10,
      "outputs": [
        {
          "output_type": "stream",
          "name": "stdout",
          "text": [
            "\n",
            "--- Example of a final document chunk to be used everywhere ---\n",
            "Text: Company: AAPL Apple Inc.. Category: risks. Content: Item 1A. Risk Factors The Company’s business, reputation, results of operations, financial condition and stock price can be affected by a number of factors, whether currently known or unknown, including those described below. When any one or more of these risks materialize from time to time, the Company’s business, reputation, results of operations, financial condition and stock price can be materially and adversely affected. Because of the following factors, as well as other factors affecting the Company’s results of operations and financial condition, past financial performance should not be considered to be a reliable indicator of future performance, and investors should not use historical trends to anticipate results or trends in future periods. This discussion of risk factors contains forward-looking statements. This section should be read in conjunction with Part II, Item 7, “Management’s Discussion and Analysis of Financial Condition and Results of Operations” and the consolidated financial statements and accompanying notes in Part II, Item 8, “Financial Statements and Supplementary Data” of this Form 10-K. Macroeconomic and Industry Risks The Company’s operations and performance depend significantly on global and regional economic conditions and adverse economic conditions can materially adversely affect the Company’s business, results of operations and financial condition. The Company has international operations with sales outside the U.S. representing a majority of the Company’s total net sales. In addition, the Company’s global supply chain is large and complex and a majority of the Company’s supplier facilities, including manufacturing and assembly sites, are located outside the U.S. As a result, the Company’s operations and performance depend significantly on global and regional economic conditions. Adverse macroeconomic conditions, including slow growth or recession, high unemployment, inflation, tighter credit, higher interest rates, and currency fluctuations, can adversely impact consumer confidence and spending and materially adversely affect demand for the Company’s products and services. In addition, consumer confidence and spending can be materially adversely affected in response to changes in fiscal and monetary policy, financial market volatility, declines in income or asset values, and other economic factors\n",
            "\n",
            "Associated Metadata: {'company': 'AAPL', 'category': 'risks'}\n"
          ]
        }
      ]
    },
    {
      "cell_type": "markdown",
      "source": [
        "# Step 1: Initialize Embedding Model and ChromaDB Clien"
      ],
      "metadata": {
        "id": "0QkatGIPBINB"
      }
    },
    {
      "cell_type": "code",
      "source": [
        "# Use the SentenceTransformer model\n",
        "model_name = 'BAAI/bge-small-en-v1.5'\n",
        "\n",
        "# Create the Data folder if it doesn't exist\n",
        "os.makedirs(\"./Data\", exist_ok=True)\n",
        "\n",
        "ef = embedding_functions.SentenceTransformerEmbeddingFunction(model_name=model_name)\n",
        "\n",
        "# Initialize a persistent ChromaDB client\n",
        "chroma_client = chromadb.PersistentClient(path=\"./Data/chroma_db\")\n",
        "\n",
        "# Get or create the collection\n",
        "collection_name = \"financial_filings\"\n",
        "collection = chroma_client.get_or_create_collection(\n",
        "    name=collection_name,\n",
        "    embedding_function=ef\n",
        ")"
      ],
      "metadata": {
        "id": "jyd91I2VE-28"
      },
      "execution_count": null,
      "outputs": []
    },
    {
      "cell_type": "markdown",
      "source": [
        "# Step 2: Add documents to ChromaDB collection"
      ],
      "metadata": {
        "id": "KpweBxLXBXZR"
      }
    },
    {
      "cell_type": "code",
      "source": [
        "# Add documents in batches to avoid overwhelming the system\n",
        "batch_size = 100\n",
        "for i in range(0, len(documents), batch_size):\n",
        "    print(f\"Adding batch {i // batch_size + 1} of documents...\")\n",
        "    batch_docs = documents[i:i + batch_size]\n",
        "    batch_metadatas = metadatas[i:i + batch_size]\n",
        "    batch_ids = ids[i:i + batch_size]\n",
        "\n",
        "    collection.add(\n",
        "        documents=batch_docs,\n",
        "        metadatas=batch_metadatas,\n",
        "        ids=batch_ids\n",
        "    )\n",
        "\n",
        "print(\"\\nChromaDB collection created and populated successfully!\")\n",
        "print(f\"The collection '{collection_name}' now contains {collection.count()} documents.\")"
      ],
      "metadata": {
        "colab": {
          "base_uri": "https://localhost:8080/"
        },
        "id": "qbPM_S48BT3e",
        "outputId": "7e4bdc55-f0b6-43a6-ef94-cfdb40a630ef"
      },
      "execution_count": 12,
      "outputs": [
        {
          "output_type": "stream",
          "name": "stdout",
          "text": [
            "Adding batch 1 of documents...\n",
            "Adding batch 2 of documents...\n",
            "Adding batch 3 of documents...\n",
            "Adding batch 4 of documents...\n",
            "\n",
            "ChromaDB collection created and populated successfully!\n",
            "The collection 'financial_filings' now contains 316 documents.\n"
          ]
        }
      ]
    },
    {
      "cell_type": "markdown",
      "source": [
        "# Step 3: Quering vector database"
      ],
      "metadata": {
        "id": "999kwokphbkw"
      }
    },
    {
      "cell_type": "code",
      "source": [
        "query_text = \"What are the biggest risks for a tech company?\"\n",
        "\n",
        "results_with_filtering = collection.query(\n",
        "    query_texts=[query_text],\n",
        "    n_results=5,\n",
        "    where={\n",
        "        \"$and\": [\n",
        "            {\"company\": {\"$eq\": \"AAPL\"}},  # Condition 1: company is AAPL\n",
        "            {\"category\": {\"$eq\": \"risks\"}}    # Condition 2: category is risks\n",
        "        ]\n",
        "    }\n",
        ")"
      ],
      "metadata": {
        "id": "hYiHdwGCCKiI"
      },
      "execution_count": 13,
      "outputs": []
    },
    {
      "cell_type": "code",
      "source": [
        "print(\"\\nFiltered Query Results:\")\n",
        "print(\"\\n\", \"-\" * 20)\n",
        "for result_doc, result_metadata in zip(results_with_filtering['documents'][0], results_with_filtering['metadatas'][0]):\n",
        "    print(f\"Company: {result_metadata['company']}, Category: {result_metadata['category']}\")\n",
        "    print(f\"Document: {result_doc}...\")\n",
        "    print(\"-\" * 20)"
      ],
      "metadata": {
        "colab": {
          "base_uri": "https://localhost:8080/"
        },
        "id": "hQ0I0_HERdCB",
        "outputId": "e6b55d36-0871-4094-830d-dd2089baabd0"
      },
      "execution_count": 14,
      "outputs": [
        {
          "output_type": "stream",
          "name": "stdout",
          "text": [
            "\n",
            "Filtered Query Results:\n",
            "\n",
            " --------------------\n",
            "Company: AAPL, Category: risks\n",
            "Document: Company: AAPL Apple Inc.. Category: risks. Content: . The Company’s business and reputation are impacted by information technology system failures and network disruptions. The Company and its global supply chain are dependent on complex information technology systems and are exposed to information technology system failures or network disruptions caused by natural disasters, accidents, power disruptions, telecommunications failures, acts of terrorism or war, computer viruses, physical or electronic break-ins, ransomware or other cybersecurity incidents, or other events or disruptions. System upgrades, redundancy and other continuity measures may be ineffective or inadequate, and the Company’s or its vendors’ business continuity and disaster recovery planning may not be sufficient for all eventualities. Such failures or disruptions can adversely impact the Company’s business by, among other things, preventing access to the Company’s online services, interfering with customer transactions or impeding the manufacturing and shipping of the Company’s products. These events could materially adversely affect the Company’s business, reputation, results of operations and financial condition. Losses or unauthorized access to or releases of confidential information, including personal information, could subject the Company to significant reputational, financial, legal and operational consequences. The Company’s business requires it to use and store confidential information, including personal information with respect to the Company’s customers and employees. The Company devotes significant resources to systems and data security, including through the use of encryption and other security measures intended to protect its systems and data. But these measures cannot provide absolute security, and losses or unauthorized access to or releases of confidential information occur and could materially adversely affect the Company’s business, reputation, results of operations and financial condition. The Company’s business also requires it to share confidential information with suppliers and other third parties. The Company relies on global suppliers that are also exposed to ransomware and other malicious attacks that can disrupt business operations. Although the Company takes steps to secure confidential information that is provided to or accessible by third parties working on the Company’s behalf, such measures are not always effective and losses or unauthorized access to, or releases of, confidential information occur...\n",
            "--------------------\n",
            "Company: AAPL, Category: risks\n",
            "Document: Company: AAPL Apple Inc.. Category: risks. Content: . As a result, from time to time the Company’s services have not performed as anticipated and may not meet customer expectations. The introduction of new and complex technologies, such as artificial intelligence features, can increase these and other safety risks, including exposing users to harmful, inaccurate or other negative content and experiences. There can be no assurance the Company will be able to detect and fix all issues and defects in the hardware, software and services it offers. Failure to do so can result in widespread technical and performance issues affecting the Company’s products and services. Errors, bugs and vulnerabilities can be exploited by third parties, compromising the safety and security of a user’s device. In addition, the Company can be exposed to product liability claims, recalls, product replacements or modifications, write-offs of inventory, property, plant and equipment or intangible assets, and significant warranty and other expenses, including litigation costs and regulatory fines. Quality problems can adversely affect the experience for users of the Company’s products and services, and result in harm to the Company’s reputation, loss of competitive advantage, poor market acceptance, reduced demand for products and services, delay in new product and service introductions and lost sales. The Company is exposed to the risk of write-downs on the value of its inventory and other assets, in addition to purchase commitment cancellation risk. The Company records a write-down for product and component inventories that have become obsolete or exceed anticipated demand, or for which cost exceeds net realizable value. The Company also accrues necessary cancellation fee reserves for orders of excess products and components. The Company reviews long-lived assets, including capital assets held at its suppliers’ facilities and inventory prepayments, for impairment whenever events or circumstances indicate the assets may not be recoverable. If the Company determines that an impairment has occurred, it records a write-down equal to the amount by which the carrying value of the asset exceeds its fair value...\n",
            "--------------------\n",
            "Company: AAPL, Category: risks\n",
            "Document: Company: AAPL Apple Inc.. Category: risks. Content: . Experienced personnel in the technology industry are in high demand and competition for their talents is intense, especially in Silicon Valley, where most of the Company’s key personnel are located. In addition to intense competition for talent, workforce dynamics are constantly evolving. If the Company does not manage changing workforce dynamics effectively, it could materially adversely affect the Company’s culture, reputation and operational flexibility. The Company believes that its distinctive and inclusive culture is a significant driver of its success. If the Company is unable to nurture its culture, it could materially adversely affect the Company’s ability to recruit and retain the highly skilled employees who are critical to its success, and could otherwise materially adversely affect the Company’s business, reputation, results of operations and financial condition. The Company depends on the performance of carriers, wholesalers, retailers and other resellers. The Company distributes its products and certain of its services through cellular network carriers, wholesalers, retailers and resellers, many of which distribute products and services from competitors. The Company also sells its products and services and resells third-party products in most of its major markets directly to consumers, small and mid-sized businesses, and education, enterprise and government customers through its retail and online stores and its direct sales force. Some carriers providing cellular network service for the Company’s products offer financing, installment payment plans or subsidies for users’ purchases of the device. There can be no assurance such offers will be continued at all or in the same amounts. The Company has invested and will continue to invest in programs to enhance reseller sales, including staffing selected resellers’ stores with Company employees and contractors, and improving product placement displays. These programs can require a substantial investment while not assuring return or incremental sales. The financial condition of these resellers could weaken, these resellers could stop distributing the Company’s products, or uncertainty regarding demand for some or all of the Company’s products could cause resellers to reduce their ordering and marketing of the Company’s products. The Company’s business and reputation are impacted by information technology system failures and network disruptions...\n",
            "--------------------\n",
            "Company: AAPL, Category: risks\n",
            "Document: Company: AAPL Apple Inc.. Category: risks. Content: . To help protect customers and the Company, the Company deploys and makes available technologies like multifactor authentication, monitors its services and systems for unusual activity and may freeze accounts under suspicious circumstances, which, among other things, can result in the delay or loss of customer orders or impede customer access to the Company’s products and services. While the Company maintains insurance coverage that is intended to address certain aspects of data security risks, such insurance coverage may be insufficient to cover all losses or all types of claims that may arise. Investment in new business strategies and acquisitions could disrupt the Company’s ongoing business, present risks not originally contemplated and materially adversely affect the Company’s business, reputation, results of operations and financial condition. The Company has invested, and in the future may invest, in new business strategies or acquisitions. Such endeavors may involve significant risks and uncertainties, including distraction of management from current operations, greater-than-expected liabilities and expenses, economic, political, legal and regulatory challenges associated with operating in new businesses, regions or countries, inadequate return on capital, potential impairment of tangible and intangible assets, and significant write-offs. Investment and acquisition transactions are exposed to additional risks, including failing to obtain required regulatory approvals on a timely basis or at all, or the imposition of onerous conditions that could delay or prevent the Company from completing a transaction or otherwise limit the Company’s ability to fully realize the anticipated benefits of a transaction. These new ventures are inherently risky and may not be successful. The failure of any significant investment could materially adversely affect the Company’s business, reputation, results of operations and financial condition. The Company’s retail stores are subject to numerous risks and uncertainties. The Company’s retail operations are subject to many factors that pose risks and uncertainties and could adversely impact the Company’s business, results of operations and financial condition, including macroeconomic factors that could have an adverse effect on general retail activity...\n",
            "--------------------\n",
            "Company: AAPL, Category: risks\n",
            "Document: Company: AAPL Apple Inc.. Category: risks. Content: . Compliance with these laws and regulations is onerous and expensive. New and changing laws and regulations can adversely affect the Company’s business by increasing the Company’s costs, limiting the Company’s ability to offer a product, service or feature to customers, imposing changes to the design of the Company’s products and services, impacting customer demand for the Company’s products and services, and requiring changes to the Company’s business or supply chain. New and changing laws and regulations can also create uncertainty about how such laws and regulations will be interpreted and applied. These risks and costs may increase as the Company’s products and services are introduced into specialized applications, including health and financial services, or as the Company expands the use of technologies, such as machine learning and artificial intelligence features, and must navigate new legal, regulatory and ethical considerations relating to such technologies. The Company has implemented policies and procedures designed to ensure compliance with applicable laws and regulations, but there can be no assurance the Company’s employees, contractors or agents will not violate such laws and regulations or the Company’s policies and procedures. If the Company is found to have violated laws and regulations, it could materially adversely affect the Company’s business, reputation, results of operations and financial condition. Apple Inc. | 2024 Form 10-K | 13 Regulatory changes and other actions that materially adversely affect the Company’s business may be announced with little or no advance notice and the Company may not be able to effectively mitigate all adverse impacts from such measures. For example, the Company is subject to changing regulations relating to the export and import of its products. Although the Company has programs, policies and procedures in place that are designed to satisfy regulatory requirements, there can be no assurance that such policies and procedures will be effective in preventing a violation or a claim of a violation. As a result, the Company’s products could be banned, delayed or prohibited from importation, which could materially adversely affect the Company’s business, reputation, results of operations and financial condition...\n",
            "--------------------\n"
          ]
        }
      ]
    },
    {
      "cell_type": "code",
      "source": [
        "query_text = \"What are the biggest risks for Apple company?\"\n",
        "\n",
        "results_without_filtering = collection.query(\n",
        "    query_texts=[query_text],\n",
        "    n_results=5,\n",
        ")"
      ],
      "metadata": {
        "id": "qOj2s31SqIRt"
      },
      "execution_count": 15,
      "outputs": []
    },
    {
      "cell_type": "code",
      "source": [
        "print(\"\\Query Results:\")\n",
        "print(\"\\n\", \"-\" * 20)\n",
        "for result_doc, result_metadata in zip(results_without_filtering['documents'][0], results_without_filtering['metadatas'][0]):\n",
        "    print(f\"Company: {result_metadata['company']}, Category: {result_metadata['category']}\")\n",
        "    print(f\"Document: {result_doc}...\")\n",
        "    print(\"-\" * 20)"
      ],
      "metadata": {
        "colab": {
          "base_uri": "https://localhost:8080/"
        },
        "id": "gHQ_qrBbqRN_",
        "outputId": "ddd93d4f-3282-4268-ba1f-5e429b1e183a"
      },
      "execution_count": 16,
      "outputs": [
        {
          "output_type": "stream",
          "name": "stdout",
          "text": [
            "\\Query Results:\n",
            "\n",
            " --------------------\n",
            "Company: AAPL, Category: risks\n",
            "Document: Company: AAPL Apple Inc.. Category: risks. Content: . As a result, from time to time the Company’s services have not performed as anticipated and may not meet customer expectations. The introduction of new and complex technologies, such as artificial intelligence features, can increase these and other safety risks, including exposing users to harmful, inaccurate or other negative content and experiences. There can be no assurance the Company will be able to detect and fix all issues and defects in the hardware, software and services it offers. Failure to do so can result in widespread technical and performance issues affecting the Company’s products and services. Errors, bugs and vulnerabilities can be exploited by third parties, compromising the safety and security of a user’s device. In addition, the Company can be exposed to product liability claims, recalls, product replacements or modifications, write-offs of inventory, property, plant and equipment or intangible assets, and significant warranty and other expenses, including litigation costs and regulatory fines. Quality problems can adversely affect the experience for users of the Company’s products and services, and result in harm to the Company’s reputation, loss of competitive advantage, poor market acceptance, reduced demand for products and services, delay in new product and service introductions and lost sales. The Company is exposed to the risk of write-downs on the value of its inventory and other assets, in addition to purchase commitment cancellation risk. The Company records a write-down for product and component inventories that have become obsolete or exceed anticipated demand, or for which cost exceeds net realizable value. The Company also accrues necessary cancellation fee reserves for orders of excess products and components. The Company reviews long-lived assets, including capital assets held at its suppliers’ facilities and inventory prepayments, for impairment whenever events or circumstances indicate the assets may not be recoverable. If the Company determines that an impairment has occurred, it records a write-down equal to the amount by which the carrying value of the asset exceeds its fair value...\n",
            "--------------------\n",
            "Company: AAPL, Category: risks\n",
            "Document: Company: AAPL Apple Inc.. Category: risks. Content: . Such incidents and other malicious attacks could materially adversely affect the Company’s business, reputation, results of operations and financial condition. Apple Inc. | 2024 Form 10-K | 11 The Company experiences malicious attacks and other attempts to gain unauthorized access to its systems on a regular basis. These attacks seek to compromise the confidentiality, integrity or availability of confidential information or disrupt normal business operations, and can, among other things, impair the Company’s ability to attract and retain customers for its products and services, impact the Company’s stock price, materially damage commercial relationships, and expose the Company to litigation or government investigations, which can result in penalties, fines or judgments against the Company. Globally, attacks are expected to continue accelerating in both frequency and sophistication with increasing use by actors of tools and techniques that are designed to circumvent controls, avoid detection, and remove or obfuscate forensic evidence, all of which hinders the Company’s ability to identify, investigate and recover from incidents. In addition, attacks against the Company and its customers can escalate during periods of geopolitical tensions or conflict. Although malicious attacks perpetrated to gain access to confidential information, including personal information, affect many companies across various industries, the Company is at a relatively greater risk of being targeted because of its high profile and the value of the confidential information it creates, owns, manages, stores and processes. The Company has implemented systems and processes intended to secure its information technology systems and prevent unauthorized access to or loss of sensitive data, and mitigate the impact of unauthorized access, including through the use of encryption and authentication technologies. As with all companies, these security measures may not be sufficient for all eventualities and are vulnerable to hacking, ransomware attacks, employee error, malfeasance, system error, faulty password management or other irregularities. For example, third parties can fraudulently induce the Company’s or its suppliers’ and other third parties’ employees or customers into disclosing usernames, passwords or other sensitive information, which can, in turn, be used for unauthorized access to the Company’s or such suppliers’ or third parties’ systems and services...\n",
            "--------------------\n",
            "Company: AAPL, Category: risks\n",
            "Document: Company: AAPL Apple Inc.. Category: risks. Content: . The Company’s operations are also subject to the risks of industrial accidents at its suppliers and contract manufacturers. While the Company’s suppliers are required to maintain safe working environments and operations, an industrial accident could occur and could result in serious injuries or loss of life, disruption to the Company’s business, and harm to the Company’s reputation. Major public health issues, including pandemics such as the COVID-19 pandemic, have adversely affected, and could in the future materially adversely affect, the Company due to their impact on the global economy and demand for consumer products; the imposition of protective public safety measures, such as stringent employee travel restrictions and limitations on freight services and the movement of products between regions; and disruptions in the Company’s operations, supply chain and sales and distribution channels, resulting in interruptions to the supply of current products and offering of existing services, and delays in production ramps of new products and development of new services. Following any interruption to its business, the Company can require substantial recovery time, experience significant expenditures to resume operations, and lose significant sales. Because the Company relies on single or limited sources for the supply and manufacture of many critical components, a business interruption affecting such sources would exacerbate any negative consequences to the Company. While the Company maintains insurance coverage for certain types of losses, such insurance coverage may be insufficient to cover all losses that may arise. Apple Inc. | 2024 Form 10-K | 6 Global markets for the Company’s products and services are highly competitive and subject to rapid technological change, and the Company may be unable to compete effectively in these markets. The Company’s products and services are offered in highly competitive global markets characterized by aggressive price competition and resulting downward pressure on gross margins, frequent introduction of new products and services, short product life cycles, evolving industry standards, continual improvement in product price and performance characteristics, rapid adoption of technological advancements by competitors, and price sensitivity on the part of consumers and businesses...\n",
            "--------------------\n",
            "Company: AAPL, Category: risks\n",
            "Document: Company: AAPL Apple Inc.. Category: risks. Content: . The Company’s business and reputation are impacted by information technology system failures and network disruptions. The Company and its global supply chain are dependent on complex information technology systems and are exposed to information technology system failures or network disruptions caused by natural disasters, accidents, power disruptions, telecommunications failures, acts of terrorism or war, computer viruses, physical or electronic break-ins, ransomware or other cybersecurity incidents, or other events or disruptions. System upgrades, redundancy and other continuity measures may be ineffective or inadequate, and the Company’s or its vendors’ business continuity and disaster recovery planning may not be sufficient for all eventualities. Such failures or disruptions can adversely impact the Company’s business by, among other things, preventing access to the Company’s online services, interfering with customer transactions or impeding the manufacturing and shipping of the Company’s products. These events could materially adversely affect the Company’s business, reputation, results of operations and financial condition. Losses or unauthorized access to or releases of confidential information, including personal information, could subject the Company to significant reputational, financial, legal and operational consequences. The Company’s business requires it to use and store confidential information, including personal information with respect to the Company’s customers and employees. The Company devotes significant resources to systems and data security, including through the use of encryption and other security measures intended to protect its systems and data. But these measures cannot provide absolute security, and losses or unauthorized access to or releases of confidential information occur and could materially adversely affect the Company’s business, reputation, results of operations and financial condition. The Company’s business also requires it to share confidential information with suppliers and other third parties. The Company relies on global suppliers that are also exposed to ransomware and other malicious attacks that can disrupt business operations. Although the Company takes steps to secure confidential information that is provided to or accessible by third parties working on the Company’s behalf, such measures are not always effective and losses or unauthorized access to, or releases of, confidential information occur...\n",
            "--------------------\n",
            "Company: AAPL, Category: risks\n",
            "Document: Company: AAPL Apple Inc.. Category: risks. Content: . To help protect customers and the Company, the Company deploys and makes available technologies like multifactor authentication, monitors its services and systems for unusual activity and may freeze accounts under suspicious circumstances, which, among other things, can result in the delay or loss of customer orders or impede customer access to the Company’s products and services. While the Company maintains insurance coverage that is intended to address certain aspects of data security risks, such insurance coverage may be insufficient to cover all losses or all types of claims that may arise. Investment in new business strategies and acquisitions could disrupt the Company’s ongoing business, present risks not originally contemplated and materially adversely affect the Company’s business, reputation, results of operations and financial condition. The Company has invested, and in the future may invest, in new business strategies or acquisitions. Such endeavors may involve significant risks and uncertainties, including distraction of management from current operations, greater-than-expected liabilities and expenses, economic, political, legal and regulatory challenges associated with operating in new businesses, regions or countries, inadequate return on capital, potential impairment of tangible and intangible assets, and significant write-offs. Investment and acquisition transactions are exposed to additional risks, including failing to obtain required regulatory approvals on a timely basis or at all, or the imposition of onerous conditions that could delay or prevent the Company from completing a transaction or otherwise limit the Company’s ability to fully realize the anticipated benefits of a transaction. These new ventures are inherently risky and may not be successful. The failure of any significant investment could materially adversely affect the Company’s business, reputation, results of operations and financial condition. The Company’s retail stores are subject to numerous risks and uncertainties. The Company’s retail operations are subject to many factors that pose risks and uncertainties and could adversely impact the Company’s business, results of operations and financial condition, including macroeconomic factors that could have an adverse effect on general retail activity...\n",
            "--------------------\n"
          ]
        },
        {
          "output_type": "stream",
          "name": "stderr",
          "text": [
            "<>:1: SyntaxWarning: invalid escape sequence '\\Q'\n",
            "<>:1: SyntaxWarning: invalid escape sequence '\\Q'\n",
            "/tmp/ipython-input-2712438780.py:1: SyntaxWarning: invalid escape sequence '\\Q'\n",
            "  print(\"\\Query Results:\")\n"
          ]
        }
      ]
    },
    {
      "cell_type": "markdown",
      "source": [
        "# Step 1: Instantiate the BM25Retriever from the enhanced documents"
      ],
      "metadata": {
        "id": "WFLjhqNeePbr"
      }
    },
    {
      "cell_type": "code",
      "source": [
        "bm25_docs = [\n",
        "    Document(page_content=doc, metadata=meta)\n",
        "    for doc, meta in zip(documents, metadatas)\n",
        "]"
      ],
      "metadata": {
        "id": "nArbwG7mrJpr"
      },
      "execution_count": 17,
      "outputs": []
    },
    {
      "cell_type": "code",
      "source": [
        "bm25_retriever = BM25Retriever.from_documents(\n",
        "    documents=bm25_docs\n",
        ")\n",
        "\n",
        "print(\"\\n--- BM25Retriever created successfully! ---\")"
      ],
      "metadata": {
        "id": "rka6GpKiCj6Q",
        "colab": {
          "base_uri": "https://localhost:8080/"
        },
        "outputId": "27437bba-925d-49fe-c3ad-990e17fca139"
      },
      "execution_count": 18,
      "outputs": [
        {
          "output_type": "stream",
          "name": "stdout",
          "text": [
            "\n",
            "--- BM25Retriever created successfully! ---\n"
          ]
        }
      ]
    },
    {
      "cell_type": "markdown",
      "source": [
        "# Step 2: Testing the BM25Retriever"
      ],
      "metadata": {
        "id": "TNI0mjjSbulm"
      }
    },
    {
      "cell_type": "code",
      "source": [
        "# Use the same query text\n",
        "query_text = \"What are the biggest risks for apple company?\"\n",
        "\n",
        "# Get relevant documents\n",
        "bm25_results = bm25_retriever.invoke(query_text)\n",
        "\n",
        "print(f\"\\nQuery: '{query_text}'\")\n",
        "print(f\"Found {len(bm25_results)} results.\")\n",
        "\n",
        "# Print the first result to see the content\n",
        "if bm25_results:\n",
        "    print(\"\\n--- Top BM25 Result ---\")\n",
        "    print(bm25_results[0].page_content)"
      ],
      "metadata": {
        "colab": {
          "base_uri": "https://localhost:8080/"
        },
        "id": "Fv111w42bSeT",
        "outputId": "5ba480ba-411b-4cb5-b739-ae2a0dac34a8"
      },
      "execution_count": 19,
      "outputs": [
        {
          "output_type": "stream",
          "name": "stdout",
          "text": [
            "\n",
            "Query: 'What are the biggest risks for apple company?'\n",
            "Found 4 results.\n",
            "\n",
            "--- Top BM25 Result ---\n",
            "Company: AAPL Apple Inc.. Category: risks. Content: . the Company has implemented changes to how developers communicate with consumers within apps on the U.S. storefront of the iOS and iPadOS App Store regarding alternative purchasing mechanisms. The Company has also implemented changes to iOS, iPadOS, the App Store and Safari in the EU as it seeks to comply with the DMA, including new business terms and alternative fee structures for iOS and iPadOS apps, alternative methods of distribution for iOS and iPadOS apps, alternative payment processing for apps across the Company’s operating systems, and additional tools and APIs for developers. The Company has also continued to make changes to its compliance plan in response to feedback and engagement with the European Commission (the “Commission”). Although the Company’s compliance plan is intended to address the DMA’s obligations, it has been challenged by the Commission and may be challenged further by private litigants. The DMA provides for significant fines and penalties for noncompliance, and other jurisdictions may seek to require the Company to make changes to its business. While the changes introduced by the Company in the EU are intended to reduce new privacy and security risks that the DMA poses to EU users, many risks will remain. The Company is also currently subject to antitrust investigations and litigation in various jurisdictions around the world, which can result in legal proceedings and claims against the Company that could, individually or in the aggregate, have a materially adverse impact on the Company’s business, results of operations and financial condition. For example, the Company is subject to civil antitrust lawsuits in the U.S. alleging monopolization or attempted monopolization in the markets for “performance smartphones” and “smartphones” generally in violation of U.S. antitrust laws. In addition, the Company is the subject of investigations in Europe and other jurisdictions relating to App Store terms and conditions. If such investigations or litigation are resolved against the Company, the Company can be exposed to significant fines and may be required to make further changes to its business practices, all of which could materially adversely affect the Company’s business, reputation, results of operations and financial condition\n"
          ]
        }
      ]
    },
    {
      "cell_type": "code",
      "source": [
        "# Use the same query text\n",
        "query_text = \"What are the biggest risks for Microsoft company?\"\n",
        "\n",
        "# Get relevant documents\n",
        "bm25_results = bm25_retriever.invoke(query_text)\n",
        "\n",
        "print(f\"\\nQuery: '{query_text}'\")\n",
        "print(f\"Found {len(bm25_results)} results.\")\n",
        "\n",
        "# Print the first result to see the content\n",
        "if bm25_results:\n",
        "    print(\"\\n--- Top BM25 Result ---\")\n",
        "    print(bm25_results[0].page_content)"
      ],
      "metadata": {
        "colab": {
          "base_uri": "https://localhost:8080/"
        },
        "id": "S0vDOXz8gRXj",
        "outputId": "9c40655a-2131-4d26-9ddc-e43a2174c45e"
      },
      "execution_count": 20,
      "outputs": [
        {
          "output_type": "stream",
          "name": "stdout",
          "text": [
            "\n",
            "Query: 'What are the biggest risks for Microsoft company?'\n",
            "Found 4 results.\n",
            "\n",
            "--- Top BM25 Result ---\n",
            "Company: MSFT Microsoft Corporation. Category: risks. Content: . These risks, if realized, may increase our costs, damage our reputation, or adversely affect our results of operations. PART I Item 1A Issues in the development, deployment, and use of AI may result in reputational or competitive harm or liability . We are building AI into many of our offerings, including our productivity services, and we are also making AI available for our customers to use in solutions that they build. This AI may be developed by Microsoft or others, including our strategic partner, OpenAI. We expect these elements of our business to grow. We envision a future in which AI operating in devices, applications, and the cloud helps our customers be more productive in their work and personal lives. As with many innovations, AI presents risks and challenges that could affect its adoption, and therefore our business. AI algorithms or training methodologies may be flawed. Datasets may be overbroad, insufficient, or contain biased or inaccurate information. Content generated by AI systems may be offensive, illegal, inaccurate, or otherwise harmful. Ineffective or inadequate AI development or deployment practices by Microsoft or others could result in incidents that impair the acceptance of AI solutions, cause harm to individuals, customers, or society, or result in our products and services not working as intended. Human review of certain inputs and outputs may be required, including for agentic AI systems that can take actions autonomously. Our implementation of AI systems could result in legal liability, regulatory action, brand, reputational, or competitive harm, or other adverse impacts. These risks may stem from issues related to intellectual property, data privacy, and other claims associated with AI training and outputs. They are further compounded by the evolving regulatory landscape, with new laws emerging globally, including the European Union (“EU”). Some AI scenarios present ethical issues or may have broad impacts on society. There is also rising divergence globally in how to address these issues and impacts, with the result that we will need to navigate a web of different tensions across geographies\n"
          ]
        }
      ]
    },
    {
      "cell_type": "markdown",
      "source": [
        "# Save the BM25 Retriever"
      ],
      "metadata": {
        "id": "Q_KJru3Ccem8"
      }
    },
    {
      "cell_type": "code",
      "source": [
        "# Define the path to save the pickled retriever\n",
        "bm25_retriever_path = \"./Data/bm25_retriever.pkl\"\n",
        "\n",
        "# Save the retriever object to a file\n",
        "with open(bm25_retriever_path, \"wb\") as f:\n",
        "    pickle.dump(bm25_retriever, f)\n",
        "\n",
        "print(f\"BM25Retriever saved successfully to '{bm25_retriever_path}'\")"
      ],
      "metadata": {
        "colab": {
          "base_uri": "https://localhost:8080/"
        },
        "id": "X19c-k5pbmZg",
        "outputId": "6a5e68b5-72c2-48f6-8e2b-03f6a6cc87bd"
      },
      "execution_count": 21,
      "outputs": [
        {
          "output_type": "stream",
          "name": "stdout",
          "text": [
            "BM25Retriever saved successfully to './Data/bm25_retriever.pkl'\n"
          ]
        }
      ]
    }
  ]
}